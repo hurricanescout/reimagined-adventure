{
 "cells": [
  {
   "cell_type": "markdown",
   "metadata": {},
   "source": [
    "First try doing my own Jupyter notebook"
   ]
  },
  {
   "cell_type": "code",
   "execution_count": 46,
   "metadata": {},
   "outputs": [],
   "source": [
    "import os\n",
    "#not sure, seems to control the OS?\n",
    "import glob\n",
    "#lets me get all fo the file names\n",
    "import pandas as pd\n",
    "import re\n",
    "#was using re for string function; turned out not to need it \n",
    "from datetime import datetime, timedelta\n",
    "#to add in flexibility for reading dates of csv files \n",
    "import sqlite3"
   ]
  },
  {
   "cell_type": "code",
   "execution_count": 2,
   "metadata": {},
   "outputs": [
    {
     "name": "stdout",
     "output_type": "stream",
     "text": [
      "Enter a file name for the new database: hello\n"
     ]
    }
   ],
   "source": [
    "sqlite_file_name = input(\"Enter a file name for the new database: \");\n",
    "sqlite_file_name = (sqlite_file_name+'.sqlite')\n",
    "#concerned it will accept spaces and that's an invalid file name - need to look it up "
   ]
  },
  {
   "cell_type": "code",
   "execution_count": 3,
   "metadata": {},
   "outputs": [
    {
     "name": "stdout",
     "output_type": "stream",
     "text": [
      "Enter a file name for the new csv file: why\n"
     ]
    }
   ],
   "source": [
    "csv_file_name = input(\"Enter a file name for the new csv file: \");\n",
    "csv_file_name = (csv_file_name+'.csv')"
   ]
  },
  {
   "cell_type": "code",
   "execution_count": 42,
   "metadata": {},
   "outputs": [
    {
     "name": "stdout",
     "output_type": "stream",
     "text": [
      "How many days of data to gather? 3\n"
     ]
    }
   ],
   "source": [
    "n = input(\"How many days of data to gather? \");"
   ]
  },
  {
   "cell_type": "code",
   "execution_count": 39,
   "metadata": {},
   "outputs": [
    {
     "name": "stdout",
     "output_type": "stream",
     "text": [
      "2020-08-13 22:01:32.582294\n"
     ]
    }
   ],
   "source": [
    "date_n_days_ago = datetime.now() - timedelta(days=n+1)\n",
    "#adding one because not adding functionality for user to input date right now, so if it just takes user \n",
    "#input it will return less than what they wanted\n",
    "print(date_n_days_ago)"
   ]
  },
  {
   "cell_type": "code",
   "execution_count": 37,
   "metadata": {},
   "outputs": [
    {
     "data": {
      "text/plain": [
       "datetime.datetime(2020, 11, 26, 0, 0)"
      ]
     },
     "execution_count": 37,
     "metadata": {},
     "output_type": "execute_result"
    }
   ],
   "source": [
    "file_name = '11-26-2020.csv'\n",
    "string_extract = file_name[0:10]\n",
    "datetime.strptime(string_extract, '%m-%d-%Y')\n"
   ]
  },
  {
   "cell_type": "code",
   "execution_count": null,
   "metadata": {},
   "outputs": [],
   "source": []
  },
  {
   "cell_type": "code",
   "execution_count": 83,
   "metadata": {},
   "outputs": [
    {
     "name": "stdout",
     "output_type": "stream",
     "text": [
      "['08-13-2020.csv', '08-14-2020.csv', '08-15-2020.csv']\n"
     ]
    }
   ],
   "source": [
    "dt = date_n_days_ago\n",
    "end = datetime.now() \n",
    "step = timedelta(days=1)\n",
    "\n",
    "result = []\n",
    "\n",
    "while dt < end:\n",
    "    result.append(dt.strftime('%m-%d-%Y'+'.csv'))\n",
    "    dt += step\n",
    "print(result)"
   ]
  },
  {
   "cell_type": "code",
   "execution_count": 78,
   "metadata": {},
   "outputs": [
    {
     "name": "stdout",
     "output_type": "stream",
     "text": [
      "['08-13-2020.csv', '08-14-2020.csv', '08-15-2020.csv']\n"
     ]
    },
    {
     "ename": "FileNotFoundError",
     "evalue": "[Errno 2] No such file or directory: '08-15-2020.csv'",
     "output_type": "error",
     "traceback": [
      "\u001b[0;31m---------------------------------------------------------------------------\u001b[0m",
      "\u001b[0;31mFileNotFoundError\u001b[0m                         Traceback (most recent call last)",
      "\u001b[0;32m<ipython-input-78-91e37cdc8b59>\u001b[0m in \u001b[0;36m<module>\u001b[0;34m\u001b[0m\n\u001b[1;32m      1\u001b[0m \u001b[0mos\u001b[0m\u001b[0;34m.\u001b[0m\u001b[0mchdir\u001b[0m\u001b[0;34m(\u001b[0m\u001b[0;34m\"/Users/evelynbaz/Documents/GitHub/COVID-19clone/COVID-19/csse_covid_19_data/csse_covid_19_daily_reports\"\u001b[0m\u001b[0;34m)\u001b[0m\u001b[0;34m;\u001b[0m\u001b[0;34m\u001b[0m\u001b[0;34m\u001b[0m\u001b[0m\n\u001b[1;32m      2\u001b[0m \u001b[0mprint\u001b[0m\u001b[0;34m(\u001b[0m\u001b[0mresult\u001b[0m\u001b[0;34m)\u001b[0m\u001b[0;34m;\u001b[0m\u001b[0;34m\u001b[0m\u001b[0;34m\u001b[0m\u001b[0m\n\u001b[0;32m----> 3\u001b[0;31m \u001b[0mnew_csv\u001b[0m \u001b[0;34m=\u001b[0m \u001b[0mpd\u001b[0m\u001b[0;34m.\u001b[0m\u001b[0mconcat\u001b[0m\u001b[0;34m(\u001b[0m\u001b[0;34m[\u001b[0m\u001b[0mpd\u001b[0m\u001b[0;34m.\u001b[0m\u001b[0mread_csv\u001b[0m\u001b[0;34m(\u001b[0m\u001b[0mf\u001b[0m\u001b[0;34m)\u001b[0m \u001b[0;32mfor\u001b[0m \u001b[0mf\u001b[0m \u001b[0;32min\u001b[0m \u001b[0mresult\u001b[0m\u001b[0;34m]\u001b[0m\u001b[0;34m)\u001b[0m\u001b[0;34m;\u001b[0m\u001b[0;34m\u001b[0m\u001b[0;34m\u001b[0m\u001b[0m\n\u001b[0m",
      "\u001b[0;32m<ipython-input-78-91e37cdc8b59>\u001b[0m in \u001b[0;36m<listcomp>\u001b[0;34m(.0)\u001b[0m\n\u001b[1;32m      1\u001b[0m \u001b[0mos\u001b[0m\u001b[0;34m.\u001b[0m\u001b[0mchdir\u001b[0m\u001b[0;34m(\u001b[0m\u001b[0;34m\"/Users/evelynbaz/Documents/GitHub/COVID-19clone/COVID-19/csse_covid_19_data/csse_covid_19_daily_reports\"\u001b[0m\u001b[0;34m)\u001b[0m\u001b[0;34m;\u001b[0m\u001b[0;34m\u001b[0m\u001b[0;34m\u001b[0m\u001b[0m\n\u001b[1;32m      2\u001b[0m \u001b[0mprint\u001b[0m\u001b[0;34m(\u001b[0m\u001b[0mresult\u001b[0m\u001b[0;34m)\u001b[0m\u001b[0;34m;\u001b[0m\u001b[0;34m\u001b[0m\u001b[0;34m\u001b[0m\u001b[0m\n\u001b[0;32m----> 3\u001b[0;31m \u001b[0mnew_csv\u001b[0m \u001b[0;34m=\u001b[0m \u001b[0mpd\u001b[0m\u001b[0;34m.\u001b[0m\u001b[0mconcat\u001b[0m\u001b[0;34m(\u001b[0m\u001b[0;34m[\u001b[0m\u001b[0mpd\u001b[0m\u001b[0;34m.\u001b[0m\u001b[0mread_csv\u001b[0m\u001b[0;34m(\u001b[0m\u001b[0mf\u001b[0m\u001b[0;34m)\u001b[0m \u001b[0;32mfor\u001b[0m \u001b[0mf\u001b[0m \u001b[0;32min\u001b[0m \u001b[0mresult\u001b[0m\u001b[0;34m]\u001b[0m\u001b[0;34m)\u001b[0m\u001b[0;34m;\u001b[0m\u001b[0;34m\u001b[0m\u001b[0;34m\u001b[0m\u001b[0m\n\u001b[0m",
      "\u001b[0;32m/Library/Frameworks/Python.framework/Versions/3.8/lib/python3.8/site-packages/pandas/io/parsers.py\u001b[0m in \u001b[0;36mread_csv\u001b[0;34m(filepath_or_buffer, sep, delimiter, header, names, index_col, usecols, squeeze, prefix, mangle_dupe_cols, dtype, engine, converters, true_values, false_values, skipinitialspace, skiprows, skipfooter, nrows, na_values, keep_default_na, na_filter, verbose, skip_blank_lines, parse_dates, infer_datetime_format, keep_date_col, date_parser, dayfirst, cache_dates, iterator, chunksize, compression, thousands, decimal, lineterminator, quotechar, quoting, doublequote, escapechar, comment, encoding, dialect, error_bad_lines, warn_bad_lines, delim_whitespace, low_memory, memory_map, float_precision)\u001b[0m\n\u001b[1;32m    684\u001b[0m     )\n\u001b[1;32m    685\u001b[0m \u001b[0;34m\u001b[0m\u001b[0m\n\u001b[0;32m--> 686\u001b[0;31m     \u001b[0;32mreturn\u001b[0m \u001b[0m_read\u001b[0m\u001b[0;34m(\u001b[0m\u001b[0mfilepath_or_buffer\u001b[0m\u001b[0;34m,\u001b[0m \u001b[0mkwds\u001b[0m\u001b[0;34m)\u001b[0m\u001b[0;34m\u001b[0m\u001b[0;34m\u001b[0m\u001b[0m\n\u001b[0m\u001b[1;32m    687\u001b[0m \u001b[0;34m\u001b[0m\u001b[0m\n\u001b[1;32m    688\u001b[0m \u001b[0;34m\u001b[0m\u001b[0m\n",
      "\u001b[0;32m/Library/Frameworks/Python.framework/Versions/3.8/lib/python3.8/site-packages/pandas/io/parsers.py\u001b[0m in \u001b[0;36m_read\u001b[0;34m(filepath_or_buffer, kwds)\u001b[0m\n\u001b[1;32m    450\u001b[0m \u001b[0;34m\u001b[0m\u001b[0m\n\u001b[1;32m    451\u001b[0m     \u001b[0;31m# Create the parser.\u001b[0m\u001b[0;34m\u001b[0m\u001b[0;34m\u001b[0m\u001b[0;34m\u001b[0m\u001b[0m\n\u001b[0;32m--> 452\u001b[0;31m     \u001b[0mparser\u001b[0m \u001b[0;34m=\u001b[0m \u001b[0mTextFileReader\u001b[0m\u001b[0;34m(\u001b[0m\u001b[0mfp_or_buf\u001b[0m\u001b[0;34m,\u001b[0m \u001b[0;34m**\u001b[0m\u001b[0mkwds\u001b[0m\u001b[0;34m)\u001b[0m\u001b[0;34m\u001b[0m\u001b[0;34m\u001b[0m\u001b[0m\n\u001b[0m\u001b[1;32m    453\u001b[0m \u001b[0;34m\u001b[0m\u001b[0m\n\u001b[1;32m    454\u001b[0m     \u001b[0;32mif\u001b[0m \u001b[0mchunksize\u001b[0m \u001b[0;32mor\u001b[0m \u001b[0miterator\u001b[0m\u001b[0;34m:\u001b[0m\u001b[0;34m\u001b[0m\u001b[0;34m\u001b[0m\u001b[0m\n",
      "\u001b[0;32m/Library/Frameworks/Python.framework/Versions/3.8/lib/python3.8/site-packages/pandas/io/parsers.py\u001b[0m in \u001b[0;36m__init__\u001b[0;34m(self, f, engine, **kwds)\u001b[0m\n\u001b[1;32m    934\u001b[0m             \u001b[0mself\u001b[0m\u001b[0;34m.\u001b[0m\u001b[0moptions\u001b[0m\u001b[0;34m[\u001b[0m\u001b[0;34m\"has_index_names\"\u001b[0m\u001b[0;34m]\u001b[0m \u001b[0;34m=\u001b[0m \u001b[0mkwds\u001b[0m\u001b[0;34m[\u001b[0m\u001b[0;34m\"has_index_names\"\u001b[0m\u001b[0;34m]\u001b[0m\u001b[0;34m\u001b[0m\u001b[0;34m\u001b[0m\u001b[0m\n\u001b[1;32m    935\u001b[0m \u001b[0;34m\u001b[0m\u001b[0m\n\u001b[0;32m--> 936\u001b[0;31m         \u001b[0mself\u001b[0m\u001b[0;34m.\u001b[0m\u001b[0m_make_engine\u001b[0m\u001b[0;34m(\u001b[0m\u001b[0mself\u001b[0m\u001b[0;34m.\u001b[0m\u001b[0mengine\u001b[0m\u001b[0;34m)\u001b[0m\u001b[0;34m\u001b[0m\u001b[0;34m\u001b[0m\u001b[0m\n\u001b[0m\u001b[1;32m    937\u001b[0m \u001b[0;34m\u001b[0m\u001b[0m\n\u001b[1;32m    938\u001b[0m     \u001b[0;32mdef\u001b[0m \u001b[0mclose\u001b[0m\u001b[0;34m(\u001b[0m\u001b[0mself\u001b[0m\u001b[0;34m)\u001b[0m\u001b[0;34m:\u001b[0m\u001b[0;34m\u001b[0m\u001b[0;34m\u001b[0m\u001b[0m\n",
      "\u001b[0;32m/Library/Frameworks/Python.framework/Versions/3.8/lib/python3.8/site-packages/pandas/io/parsers.py\u001b[0m in \u001b[0;36m_make_engine\u001b[0;34m(self, engine)\u001b[0m\n\u001b[1;32m   1166\u001b[0m     \u001b[0;32mdef\u001b[0m \u001b[0m_make_engine\u001b[0m\u001b[0;34m(\u001b[0m\u001b[0mself\u001b[0m\u001b[0;34m,\u001b[0m \u001b[0mengine\u001b[0m\u001b[0;34m=\u001b[0m\u001b[0;34m\"c\"\u001b[0m\u001b[0;34m)\u001b[0m\u001b[0;34m:\u001b[0m\u001b[0;34m\u001b[0m\u001b[0;34m\u001b[0m\u001b[0m\n\u001b[1;32m   1167\u001b[0m         \u001b[0;32mif\u001b[0m \u001b[0mengine\u001b[0m \u001b[0;34m==\u001b[0m \u001b[0;34m\"c\"\u001b[0m\u001b[0;34m:\u001b[0m\u001b[0;34m\u001b[0m\u001b[0;34m\u001b[0m\u001b[0m\n\u001b[0;32m-> 1168\u001b[0;31m             \u001b[0mself\u001b[0m\u001b[0;34m.\u001b[0m\u001b[0m_engine\u001b[0m \u001b[0;34m=\u001b[0m \u001b[0mCParserWrapper\u001b[0m\u001b[0;34m(\u001b[0m\u001b[0mself\u001b[0m\u001b[0;34m.\u001b[0m\u001b[0mf\u001b[0m\u001b[0;34m,\u001b[0m \u001b[0;34m**\u001b[0m\u001b[0mself\u001b[0m\u001b[0;34m.\u001b[0m\u001b[0moptions\u001b[0m\u001b[0;34m)\u001b[0m\u001b[0;34m\u001b[0m\u001b[0;34m\u001b[0m\u001b[0m\n\u001b[0m\u001b[1;32m   1169\u001b[0m         \u001b[0;32melse\u001b[0m\u001b[0;34m:\u001b[0m\u001b[0;34m\u001b[0m\u001b[0;34m\u001b[0m\u001b[0m\n\u001b[1;32m   1170\u001b[0m             \u001b[0;32mif\u001b[0m \u001b[0mengine\u001b[0m \u001b[0;34m==\u001b[0m \u001b[0;34m\"python\"\u001b[0m\u001b[0;34m:\u001b[0m\u001b[0;34m\u001b[0m\u001b[0;34m\u001b[0m\u001b[0m\n",
      "\u001b[0;32m/Library/Frameworks/Python.framework/Versions/3.8/lib/python3.8/site-packages/pandas/io/parsers.py\u001b[0m in \u001b[0;36m__init__\u001b[0;34m(self, src, **kwds)\u001b[0m\n\u001b[1;32m   1996\u001b[0m         \u001b[0mkwds\u001b[0m\u001b[0;34m[\u001b[0m\u001b[0;34m\"usecols\"\u001b[0m\u001b[0;34m]\u001b[0m \u001b[0;34m=\u001b[0m \u001b[0mself\u001b[0m\u001b[0;34m.\u001b[0m\u001b[0musecols\u001b[0m\u001b[0;34m\u001b[0m\u001b[0;34m\u001b[0m\u001b[0m\n\u001b[1;32m   1997\u001b[0m \u001b[0;34m\u001b[0m\u001b[0m\n\u001b[0;32m-> 1998\u001b[0;31m         \u001b[0mself\u001b[0m\u001b[0;34m.\u001b[0m\u001b[0m_reader\u001b[0m \u001b[0;34m=\u001b[0m \u001b[0mparsers\u001b[0m\u001b[0;34m.\u001b[0m\u001b[0mTextReader\u001b[0m\u001b[0;34m(\u001b[0m\u001b[0msrc\u001b[0m\u001b[0;34m,\u001b[0m \u001b[0;34m**\u001b[0m\u001b[0mkwds\u001b[0m\u001b[0;34m)\u001b[0m\u001b[0;34m\u001b[0m\u001b[0;34m\u001b[0m\u001b[0m\n\u001b[0m\u001b[1;32m   1999\u001b[0m         \u001b[0mself\u001b[0m\u001b[0;34m.\u001b[0m\u001b[0munnamed_cols\u001b[0m \u001b[0;34m=\u001b[0m \u001b[0mself\u001b[0m\u001b[0;34m.\u001b[0m\u001b[0m_reader\u001b[0m\u001b[0;34m.\u001b[0m\u001b[0munnamed_cols\u001b[0m\u001b[0;34m\u001b[0m\u001b[0;34m\u001b[0m\u001b[0m\n\u001b[1;32m   2000\u001b[0m \u001b[0;34m\u001b[0m\u001b[0m\n",
      "\u001b[0;32mpandas/_libs/parsers.pyx\u001b[0m in \u001b[0;36mpandas._libs.parsers.TextReader.__cinit__\u001b[0;34m()\u001b[0m\n",
      "\u001b[0;32mpandas/_libs/parsers.pyx\u001b[0m in \u001b[0;36mpandas._libs.parsers.TextReader._setup_parser_source\u001b[0;34m()\u001b[0m\n",
      "\u001b[0;31mFileNotFoundError\u001b[0m: [Errno 2] No such file or directory: '08-15-2020.csv'"
     ]
    }
   ],
   "source": [
    "os.chdir(\"/Users/evelynbaz/Documents/GitHub/COVID-19clone/COVID-19/csse_covid_19_data/csse_covid_19_daily_reports\");\n",
    "print(result);\n",
    "new_csv = pd.concat([pd.read_csv(f) for f in result]);\n"
   ]
  },
  {
   "cell_type": "markdown",
   "metadata": {},
   "source": [
    "if year > starting year \n",
    "and month"
   ]
  },
  {
   "cell_type": "code",
   "execution_count": 84,
   "metadata": {},
   "outputs": [
    {
     "name": "stdout",
     "output_type": "stream",
     "text": [
      "['02-26-2020.csv', '02-27-2020.csv', '06-07-2020.csv', '06-06-2020.csv', '04-08-2020.csv', '04-09-2020.csv', '02-18-2020.csv', '02-19-2020.csv', '03-24-2020.csv', '03-25-2020.csv', '07-05-2020.csv', '07-04-2020.csv', '04-02-2020.csv', '04-03-2020.csv', '07-31-2020.csv', '07-30-2020.csv', '08-14-2020.csv', '03-10-2020.csv', '03-11-2020.csv', '05-01-2020.csv', '02-12-2020.csv', '02-13-2020.csv', '05-23-2020.csv', '05-22-2020.csv', '08-09-2020.csv', '06-10-2020.csv', '06-11-2020.csv', '08-08-2020.csv', '04-21-2020.csv', '04-20-2020.csv', '07-12-2020.csv', '07-13-2020.csv', '03-07-2020.csv', '03-06-2020.csv', '08-03-2020.csv', '08-02-2020.csv', '05-29-2020.csv', '05-28-2020.csv', '04-15-2020.csv', '04-14-2020.csv', '07-26-2020.csv', '07-27-2020.csv', '02-05-2020.csv', '02-04-2020.csv', '05-17-2020.csv', '05-16-2020.csv', '06-24-2020.csv', '06-25-2020.csv', '07-18-2020.csv', '07-19-2020.csv', '05-24-2020.csv', '05-25-2020.csv', '06-17-2020.csv', '06-16-2020.csv', '04-18-2020.csv', '04-19-2020.csv', '06-29-2020.csv', '06-28-2020.csv', '04-26-2020.csv', '04-27-2020.csv', '07-15-2020.csv', '07-14-2020.csv', '02-08-2020.csv', '02-09-2020.csv', '03-01-2020.csv', '04-12-2020.csv', '04-13-2020.csv', '07-21-2020.csv', '07-20-2020.csv', '08-04-2020.csv', '08-05-2020.csv', '02-02-2020.csv', '02-03-2020.csv', '01-31-2020.csv', '01-30-2020.csv', '05-10-2020.csv', '05-11-2020.csv', '06-23-2020.csv', '06-22-2020.csv', '02-21-2020.csv', '02-20-2020.csv', '06-01-2020.csv', '03-23-2020.csv', '03-22-2020.csv', '04-30-2020.csv', '07-02-2020.csv', '07-03-2020.csv', '08-13-2020.csv', '08-12-2020.csv', '04-05-2020.csv', '04-04-2020.csv', '03-17-2020.csv', '03-16-2020.csv', '05-07-2020.csv', '05-06-2020.csv', '07-08-2020.csv', '07-09-2020.csv', '02-15-2020.csv', '02-14-2020.csv', '01-26-2020.csv', '01-27-2020.csv', '03-29-2020.csv', '03-28-2020.csv', '03-04-2020.csv', '03-05-2020.csv', '06-19-2020.csv', '06-18-2020.csv', '08-01-2020.csv', '07-25-2020.csv', '07-24-2020.csv', '04-16-2020.csv', '04-17-2020.csv', '02-06-2020.csv', '02-07-2020.csv', '06-27-2020.csv', '06-26-2020.csv', '05-14-2020.csv', '05-15-2020.csv', '04-28-2020.csv', '04-29-2020.csv', '06-13-2020.csv', '06-12-2020.csv', '05-20-2020.csv', '05-21-2020.csv', '07-11-2020.csv', '07-10-2020.csv', '04-22-2020.csv', '04-23-2020.csv', '03-30-2020.csv', '03-31-2020.csv', '04-01-2020.csv', '03-13-2020.csv', '03-12-2020.csv', '06-30-2020.csv', '05-03-2020.csv', '05-02-2020.csv', '01-22-2020.csv', '01-23-2020.csv', '02-11-2020.csv', '02-10-2020.csv', '02-25-2020.csv', '02-24-2020.csv', '03-19-2020.csv', '03-18-2020.csv', '06-04-2020.csv', '06-05-2020.csv', '01-28-2020.csv', '01-29-2020.csv', '03-27-2020.csv', '03-26-2020.csv', '05-09-2020.csv', '05-08-2020.csv', '07-06-2020.csv', '07-07-2020.csv', '06-09-2020.csv', '08-10-2020.csv', '08-11-2020.csv', '06-08-2020.csv', '04-06-2020.csv', '04-07-2020.csv', '02-28-2020.csv', '02-29-2020.csv', '03-14-2020.csv', '03-15-2020.csv', '05-04-2020.csv', '05-05-2020.csv', '01-25-2020.csv', '01-24-2020.csv', '02-16-2020.csv', '02-17-2020.csv', '02-22-2020.csv', '02-23-2020.csv', '06-03-2020.csv', '06-02-2020.csv', '05-30-2020.csv', '05-31-2020.csv', '03-20-2020.csv', '03-21-2020.csv', '07-01-2020.csv', '03-03-2020.csv', '03-02-2020.csv', '07-22-2020.csv', '07-23-2020.csv', '04-11-2020.csv', '04-10-2020.csv', '08-07-2020.csv', '08-06-2020.csv', '02-01-2020.csv', '06-20-2020.csv', '06-21-2020.csv', '05-13-2020.csv', '05-12-2020.csv', '06-14-2020.csv', '06-15-2020.csv', '05-27-2020.csv', '05-26-2020.csv', '07-28-2020.csv', '07-29-2020.csv', '03-09-2020.csv', '03-08-2020.csv', '05-19-2020.csv', '05-18-2020.csv', '07-16-2020.csv', '07-17-2020.csv', '04-25-2020.csv', '04-24-2020.csv']\n"
     ]
    }
   ],
   "source": [
    "os.chdir(\"/Users/evelynbaz/Documents/GitHub/COVID-19clone/COVID-19/csse_covid_19_data/csse_covid_19_daily_reports\");\n",
    "extension = 'csv'\n",
    "all_filenames = [file for file in glob.glob('*.csv')];\n",
    "#this print is unnecessary but is letting me see which files are being pulled \n",
    "print(all_filenames);\n",
    "combined_csv = pd.concat([pd.read_csv(f) for f in all_filenames])\n",
    "combined_csv.to_csv( \"/Users/evelynbaz/Documents/Projects/covid19/hello.csv\", index=False, encoding='utf-8-sig');\n"
   ]
  },
  {
   "cell_type": "markdown",
   "metadata": {},
   "source": [
    "Define new file names for update, extract string of the sqlite file and csv files  "
   ]
  },
  {
   "cell_type": "code",
   "execution_count": 5,
   "metadata": {},
   "outputs": [
    {
     "name": "stdout",
     "output_type": "stream",
     "text": [
      "hello.sqlite\n",
      "why.csv\n"
     ]
    }
   ],
   "source": [
    "#testing input of file names \n",
    "print(sqlite_file_name)\n",
    "print(csv_file_name)"
   ]
  },
  {
   "cell_type": "code",
   "execution_count": 6,
   "metadata": {},
   "outputs": [
    {
     "ename": "NameError",
     "evalue": "name 'newdb' is not defined",
     "output_type": "error",
     "traceback": [
      "\u001b[0;31m---------------------------------------------------------------------------\u001b[0m",
      "\u001b[0;31mNameError\u001b[0m                                 Traceback (most recent call last)",
      "\u001b[0;32m<ipython-input-6-5f3ad3b42485>\u001b[0m in \u001b[0;36m<module>\u001b[0;34m\u001b[0m\n\u001b[0;32m----> 1\u001b[0;31m \u001b[0mn\u001b[0m \u001b[0;34m=\u001b[0m \u001b[0mnewdb\u001b[0m\u001b[0;34m[\u001b[0m\u001b[0;36m0\u001b[0m\u001b[0;34m:\u001b[0m\u001b[0;34m-\u001b[0m\u001b[0;36m8\u001b[0m\u001b[0;34m]\u001b[0m\u001b[0;34m\u001b[0m\u001b[0;34m\u001b[0m\u001b[0m\n\u001b[0m",
      "\u001b[0;31mNameError\u001b[0m: name 'newdb' is not defined"
     ]
    }
   ],
   "source": [
    "n = newdb[0:-8]\n"
   ]
  },
  {
   "cell_type": "code",
   "execution_count": null,
   "metadata": {},
   "outputs": [],
   "source": [
    "cnx = sqlite3.connect(sqlite_file_name)\n",
    "df = pd.read_csv(csv_file_name)\n",
    "df.to_sql(n, cnx);"
   ]
  },
  {
   "cell_type": "code",
   "execution_count": null,
   "metadata": {},
   "outputs": [],
   "source": []
  },
  {
   "cell_type": "code",
   "execution_count": null,
   "metadata": {},
   "outputs": [],
   "source": []
  },
  {
   "cell_type": "code",
   "execution_count": null,
   "metadata": {},
   "outputs": [],
   "source": []
  }
 ],
 "metadata": {
  "kernelspec": {
   "display_name": "Python 3",
   "language": "python",
   "name": "python3"
  },
  "language_info": {
   "codemirror_mode": {
    "name": "ipython",
    "version": 3
   },
   "file_extension": ".py",
   "mimetype": "text/x-python",
   "name": "python",
   "nbconvert_exporter": "python",
   "pygments_lexer": "ipython3",
   "version": "3.8.5"
  }
 },
 "nbformat": 4,
 "nbformat_minor": 4
}
